{
  "nbformat": 4,
  "nbformat_minor": 0,
  "metadata": {
    "colab": {
      "provenance": []
    },
    "kernelspec": {
      "name": "python3",
      "display_name": "Python 3"
    },
    "language_info": {
      "name": "python"
    }
  },
  "cells": [
    {
      "cell_type": "markdown",
      "source": [
        "The following was done in order to get the data into the correct date/time format for MySQL"
      ],
      "metadata": {
        "id": "AG61-_-igp3u"
      }
    },
    {
      "cell_type": "code",
      "execution_count": 1,
      "metadata": {
        "colab": {
          "base_uri": "https://localhost:8080/"
        },
        "id": "rJX5kVkW9AG9",
        "outputId": "dbf5216c-0243-470e-ac4d-fc58b631377b"
      },
      "outputs": [
        {
          "output_type": "stream",
          "name": "stdout",
          "text": [
            "Requirement already satisfied: pandas in /usr/local/lib/python3.10/dist-packages (1.5.3)\n",
            "Requirement already satisfied: python-dateutil>=2.8.1 in /usr/local/lib/python3.10/dist-packages (from pandas) (2.8.2)\n",
            "Requirement already satisfied: pytz>=2020.1 in /usr/local/lib/python3.10/dist-packages (from pandas) (2022.7.1)\n",
            "Requirement already satisfied: numpy>=1.21.0 in /usr/local/lib/python3.10/dist-packages (from pandas) (1.22.4)\n",
            "Requirement already satisfied: six>=1.5 in /usr/local/lib/python3.10/dist-packages (from python-dateutil>=2.8.1->pandas) (1.16.0)\n"
          ]
        }
      ],
      "source": [
        "#Install pandas package\n",
        "pip install pandas\n"
      ]
    },
    {
      "cell_type": "code",
      "source": [
        "#Import pandas library\n",
        "import pandas as pd\n"
      ],
      "metadata": {
        "id": "OdLhemJj9GdI"
      },
      "execution_count": 2,
      "outputs": []
    },
    {
      "cell_type": "code",
      "source": [
        "#Performed this process for both the orders and rota tables\n",
        "df = pd.read_csv('/content/orders.csv')\n",
        "\n"
      ],
      "metadata": {
        "id": "17LeAFTC9I1a"
      },
      "execution_count": 3,
      "outputs": []
    },
    {
      "cell_type": "code",
      "source": [
        "# Use pandas to read the CSV file located at the specified path into a DataFrame named df.\n",
        "df = pd.read_csv('/rota.csv')"
      ],
      "metadata": {
        "id": "k57_IbmrC321"
      },
      "execution_count": 18,
      "outputs": []
    },
    {
      "cell_type": "code",
      "source": [
        "# Print the first 5 rows of the DataFrame. This is useful for getting a quick look at the data.\n",
        "print(df.head())\n"
      ],
      "metadata": {
        "colab": {
          "base_uri": "https://localhost:8080/"
        },
        "id": "mHNaqhBo9UCJ",
        "outputId": "576ccd4a-91a8-442f-92cc-f1837676de00"
      },
      "execution_count": 22,
      "outputs": [
        {
          "output_type": "stream",
          "name": "stdout",
          "text": [
            "   row_id rota_id       date shift_id staff_id\n",
            "0       1  ro0001 2022-10-08   sh0005   st0001\n",
            "1       2  ro0001 2022-10-08   sh0005   st0002\n",
            "2       3  ro0001 2022-10-08   sh0005   st0009\n",
            "3       4  ro0001 2022-10-08   sh0005   st0010\n",
            "4       5  ro0001 2022-10-08   sh0006   st0001\n"
          ]
        }
      ]
    },
    {
      "cell_type": "code",
      "source": [
        "# Convert the 'date' column of the DataFrame to datetime format. If any errors are encountered, they are coerced, meaning that invalid parsing will be set as NaN.\n",
        "df['date'] = pd.to_datetime(df['date'], errors='coerce')\n",
        "\n"
      ],
      "metadata": {
        "colab": {
          "base_uri": "https://localhost:8080/"
        },
        "id": "i5MpQQV09igT",
        "outputId": "ac6f3051-fc1e-471f-b1f1-2fb22eb363a7"
      },
      "execution_count": 21,
      "outputs": [
        {
          "output_type": "stream",
          "name": "stderr",
          "text": [
            "<ipython-input-21-28c687b11e46>:1: UserWarning: Parsing dates in DD/MM/YYYY format when dayfirst=False (the default) was specified. This may lead to inconsistently parsed dates! Specify a format to ensure consistent parsing.\n",
            "  df['date'] = pd.to_datetime(df['date'], errors='coerce')\n"
          ]
        }
      ]
    },
    {
      "cell_type": "code",
      "source": [
        "# Drop the column named \"Unnamed: 3\" from the DataFrame. The 'axis=1' parameter indicates that we want to drop a column, not a row.\n",
        "df = df.drop(\"Unnamed: 3\", axis=1)\n"
      ],
      "metadata": {
        "id": "MU-ZCwR-CLDO"
      },
      "execution_count": 15,
      "outputs": []
    },
    {
      "cell_type": "code",
      "source": [
        "# Write the DataFrame to a new CSV file named 'transformed_data_rota.csv'. The 'index=False' parameter prevents pandas from writing row indices.\n",
        "df.to_csv('transformed_data_rota.csv', index=False)\n",
        "\n",
        "# Print the first 5 rows of the DataFrame again to confirm that the \"Unnamed: 3\" column has been dropped.\n",
        "print(df.head())\n"
      ],
      "metadata": {
        "colab": {
          "base_uri": "https://localhost:8080/"
        },
        "id": "rIVr7vSj9wkR",
        "outputId": "a1851359-1bcf-4847-a31d-66dc68b10781"
      },
      "execution_count": 24,
      "outputs": [
        {
          "output_type": "stream",
          "name": "stdout",
          "text": [
            "   row_id rota_id       date shift_id staff_id\n",
            "0       1  ro0001 2022-10-08   sh0005   st0001\n",
            "1       2  ro0001 2022-10-08   sh0005   st0002\n",
            "2       3  ro0001 2022-10-08   sh0005   st0009\n",
            "3       4  ro0001 2022-10-08   sh0005   st0010\n",
            "4       5  ro0001 2022-10-08   sh0006   st0001\n"
          ]
        }
      ]
    }
  ]
}